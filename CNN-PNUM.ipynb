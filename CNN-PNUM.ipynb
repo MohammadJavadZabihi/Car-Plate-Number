{
  "nbformat": 4,
  "nbformat_minor": 0,
  "metadata": {
    "colab": {
      "provenance": [],
      "gpuType": "T4"
    },
    "kernelspec": {
      "name": "python3",
      "display_name": "Python 3"
    },
    "language_info": {
      "name": "python"
    },
    "accelerator": "GPU"
  },
  "cells": [
    {
      "cell_type": "code",
      "source": [
        "!pip install roboflow"
      ],
      "metadata": {
        "id": "s0xYkCnW2Y_C"
      },
      "execution_count": null,
      "outputs": []
    },
    {
      "cell_type": "code",
      "execution_count": 161,
      "metadata": {
        "id": "0EQvGrRC12we"
      },
      "outputs": [],
      "source": [
        "import numpy as np\n",
        "import tensorflow as tf\n",
        "import matplotlib.pyplot as plt\n",
        "import cv2 as cv\n",
        "import keras\n",
        "from tensorflow.keras import layers\n",
        "from roboflow import Roboflow\n",
        "import random\n",
        "import os\n",
        "from keras.optimizers import SGD\n",
        "from keras.utils import np_utils\n"
      ]
    },
    {
      "cell_type": "code",
      "source": [
        "rf = Roboflow(api_key=\"VdwBRxsJsFmCMW94xJjd\")\n",
        "project = rf.workspace(\"object-detection-yolov5\").project(\"plate_ocr_ir\")\n",
        "dataset = project.version(2).download(\"folder\")"
      ],
      "metadata": {
        "colab": {
          "base_uri": "https://localhost:8080/"
        },
        "id": "q6_2DayX2r3I",
        "outputId": "4fe5b17e-afb4-4cd2-eeae-0cce3b0e3652"
      },
      "execution_count": 29,
      "outputs": [
        {
          "output_type": "stream",
          "name": "stdout",
          "text": [
            "loading Roboflow workspace...\n",
            "loading Roboflow project...\n",
            "Downloading Dataset Version Zip in plate_ocr_ir-2 to folder: 100% [11679295 / 11679295] bytes\n"
          ]
        },
        {
          "output_type": "stream",
          "name": "stderr",
          "text": [
            "Extracting Dataset Version Zip to plate_ocr_ir-2 in folder:: 100%|██████████| 9658/9658 [00:02<00:00, 4655.90it/s]\n"
          ]
        }
      ]
    },
    {
      "cell_type": "code",
      "source": [
        "train_path = '/content/plate_ocr_ir-2/train'\n",
        "valid_path = '/content/plate_ocr_ir-2/valid'\n",
        "test_path = '/content/plate_ocr_ir-2/test'"
      ],
      "metadata": {
        "id": "yuDUMJL52u3Q"
      },
      "execution_count": 162,
      "outputs": []
    },
    {
      "cell_type": "code",
      "source": [
        "class_names = subdirs = ['0', '1', '2', '3', '4', '5', '6', '7', '8', '9', 'a', 'b', 'ch', 'd', 'ein', 'f', 'g', 'ghaf', 'ghein', 'h2', 'hj', 'j', 'k', 'kh', 'l', 'm', 'n', 'p', 'r', 's', 'sad', 'sh', 't', 'ta', 'th', 'v', 'y', 'z', 'za', 'zad', 'zal', 'zh']\n",
        "num_classes = len(class_names)"
      ],
      "metadata": {
        "id": "Oq5c0EtR3l2R"
      },
      "execution_count": 163,
      "outputs": []
    },
    {
      "cell_type": "code",
      "source": [
        "labels_nums = [i for i in range(0,len(class_names))]\n",
        "print(labels_nums)"
      ],
      "metadata": {
        "colab": {
          "base_uri": "https://localhost:8080/"
        },
        "id": "fbSu_nqY6MMs",
        "outputId": "2385bce2-6cd2-4787-859f-9f835681d85c"
      },
      "execution_count": 164,
      "outputs": [
        {
          "output_type": "stream",
          "name": "stdout",
          "text": [
            "[0, 1, 2, 3, 4, 5, 6, 7, 8, 9, 10, 11, 12, 13, 14, 15, 16, 17, 18, 19, 20, 21, 22, 23, 24, 25, 26, 27, 28, 29, 30, 31, 32, 33, 34, 35, 36, 37, 38, 39, 40, 41]\n"
          ]
        }
      ]
    },
    {
      "cell_type": "code",
      "source": [
        "train_imgs = []\n",
        "train_labels = []\n",
        "for indx, subdir in enumerate(subdirs):\n",
        "  imgfolder = os.path.join(train_path, subdir)\n",
        "  for imgname in os.listdir(imgfolder):\n",
        "    img = cv.imread(os.path.join(imgfolder, imgname), 0)\n",
        "    train_imgs.append(img)\n",
        "    train_labels.append(labels_nums[indx])\n",
        "\n",
        "c = list(zip(train_imgs, train_labels))\n",
        "random.shuffle(c)\n",
        "train_imgs, train_labels = zip(*c)\n",
        "\n",
        "train_images = np.array(train_imgs)\n",
        "train_labels = np.array(train_labels)"
      ],
      "metadata": {
        "id": "IyxBaMSP39dQ"
      },
      "execution_count": 165,
      "outputs": []
    },
    {
      "cell_type": "code",
      "source": [
        "valid_imgs = []\n",
        "valid_labels = []\n",
        "for indx, subdir in enumerate(subdirs):\n",
        "  imgfolder = os.path.join(valid_path, subdir)\n",
        "  if os.path.exists(imgfolder):\n",
        "    for imgname in os.listdir(imgfolder):\n",
        "      img = cv.imread(os.path.join(imgfolder, imgname), 0)\n",
        "      valid_imgs.append(img)\n",
        "      valid_labels.append(labels_nums[indx])\n",
        "\n",
        "c = list(zip(valid_imgs, valid_labels))\n",
        "random.shuffle(c)\n",
        "valid_imgs, valid_labels = zip(*c)\n",
        "\n",
        "test_images = np.array(valid_imgs)\n",
        "test_labels = np.array(valid_labels)"
      ],
      "metadata": {
        "id": "nnGMtofP7hWQ"
      },
      "execution_count": 166,
      "outputs": []
    },
    {
      "cell_type": "code",
      "source": [
        "x_train = np.array(train_images, dtype = 'float') / 255.0\n",
        "x_test = np.array(test_images, dtype = 'float') / 255.0"
      ],
      "metadata": {
        "id": "HMElxqivHlFo"
      },
      "execution_count": 182,
      "outputs": []
    },
    {
      "cell_type": "code",
      "source": [
        "y_train = np.array(train_labels)\n",
        "y_test = np.array(test_labels)"
      ],
      "metadata": {
        "id": "_Dn_KIXSHk8A"
      },
      "execution_count": 183,
      "outputs": []
    },
    {
      "cell_type": "code",
      "source": [
        "y_train = np_utils.to_categorical(y_train)\n",
        "y_test = np_utils.to_categorical(y_test)"
      ],
      "metadata": {
        "id": "KITtW84WHkxg"
      },
      "execution_count": 184,
      "outputs": []
    },
    {
      "cell_type": "code",
      "source": [
        "x_train_r = x_train.reshape(x_train.shape[0], 28, 28, 1)\n",
        "x_test_r = x_test.reshape(x_test.shape[0], 28, 28, 1)"
      ],
      "metadata": {
        "id": "3ereUs_aIUJ4"
      },
      "execution_count": 185,
      "outputs": []
    },
    {
      "cell_type": "code",
      "source": [
        "print(x_train_r.shape)\n",
        "print(x_test_r.shape)"
      ],
      "metadata": {
        "colab": {
          "base_uri": "https://localhost:8080/"
        },
        "id": "HsHdb0xZIUEK",
        "outputId": "f5f44873-5e80-4020-932e-07d430e5cec8"
      },
      "execution_count": 186,
      "outputs": [
        {
          "output_type": "stream",
          "name": "stdout",
          "text": [
            "(8337, 28, 28, 1)\n",
            "(792, 28, 28, 1)\n"
          ]
        }
      ]
    },
    {
      "cell_type": "code",
      "source": [
        "print(y_train.shape)\n",
        "print(y_test.shape)"
      ],
      "metadata": {
        "colab": {
          "base_uri": "https://localhost:8080/"
        },
        "id": "QD0ME6-0Jd6h",
        "outputId": "cc0055ea-5bbd-447f-a226-b85d22b2fc0f"
      },
      "execution_count": 187,
      "outputs": [
        {
          "output_type": "stream",
          "name": "stdout",
          "text": [
            "(8337, 42)\n",
            "(792, 42)\n"
          ]
        }
      ]
    },
    {
      "cell_type": "code",
      "source": [
        "def build_model():\n",
        "  model = tf.keras.Sequential()\n",
        "\n",
        "  model.add(layers.Conv2D(32, (3,3), input_shape = (28, 28, 1), padding = 'same', activation = 'relu'))\n",
        "  model.add(layers.Dropout(0.2))\n",
        "  model.add(layers.Conv2D(32, (3,3), padding = 'same', activation = 'relu'))\n",
        "  model.add(layers.MaxPooling2D(pool_size = (2,2)))\n",
        "\n",
        "  model.add(layers.Conv2D(64, (3,3), padding = 'same', activation = 'relu'))\n",
        "  model.add(layers.Dropout(0.2))\n",
        "  model.add(layers.Conv2D(64, (3,3), padding = 'same', activation = 'relu'))\n",
        "  model.add(layers.MaxPooling2D(pool_size = (2,2)))\n",
        "\n",
        "  model.add(layers.Conv2D(128, (3,3), padding = 'same', activation = 'relu'))\n",
        "  model.add(layers.Dropout(0.2))\n",
        "  model.add(layers.Conv2D(128, (3,3), padding = 'same', activation = 'relu'))\n",
        "  model.add(layers.MaxPooling2D(pool_size = (2,2)))\n",
        "\n",
        "  model.add(layers.Flatten())\n",
        "\n",
        "  model.add(layers.Dense(1024, activation = 'relu'))\n",
        "  model.add(layers.Dropout(0.2))\n",
        "\n",
        "  model.add(layers.Dense(512, activation = 'relu'))\n",
        "  model.add(layers.Dropout(0.2))\n",
        "\n",
        "  model.add(layers.Dense(42, activation = 'softmax'))\n",
        "\n",
        "  model.summary()\n",
        "\n",
        "  return model"
      ],
      "metadata": {
        "id": "0yBwxbLoGa9m"
      },
      "execution_count": 188,
      "outputs": []
    },
    {
      "cell_type": "code",
      "source": [
        "model = build_model()"
      ],
      "metadata": {
        "colab": {
          "base_uri": "https://localhost:8080/"
        },
        "id": "0xmfd3PlGbSi",
        "outputId": "518ee300-d504-4a33-c9c2-93f695384d1b"
      },
      "execution_count": 189,
      "outputs": [
        {
          "output_type": "stream",
          "name": "stdout",
          "text": [
            "Model: \"sequential_16\"\n",
            "_________________________________________________________________\n",
            " Layer (type)                Output Shape              Param #   \n",
            "=================================================================\n",
            " conv2d_55 (Conv2D)          (None, 28, 28, 32)        320       \n",
            "                                                                 \n",
            " dropout_45 (Dropout)        (None, 28, 28, 32)        0         \n",
            "                                                                 \n",
            " conv2d_56 (Conv2D)          (None, 28, 28, 32)        9248      \n",
            "                                                                 \n",
            " max_pooling2d_27 (MaxPoolin  (None, 14, 14, 32)       0         \n",
            " g2D)                                                            \n",
            "                                                                 \n",
            " conv2d_57 (Conv2D)          (None, 14, 14, 64)        18496     \n",
            "                                                                 \n",
            " dropout_46 (Dropout)        (None, 14, 14, 64)        0         \n",
            "                                                                 \n",
            " conv2d_58 (Conv2D)          (None, 14, 14, 64)        36928     \n",
            "                                                                 \n",
            " max_pooling2d_28 (MaxPoolin  (None, 7, 7, 64)         0         \n",
            " g2D)                                                            \n",
            "                                                                 \n",
            " conv2d_59 (Conv2D)          (None, 7, 7, 128)         73856     \n",
            "                                                                 \n",
            " dropout_47 (Dropout)        (None, 7, 7, 128)         0         \n",
            "                                                                 \n",
            " conv2d_60 (Conv2D)          (None, 7, 7, 128)         147584    \n",
            "                                                                 \n",
            " max_pooling2d_29 (MaxPoolin  (None, 3, 3, 128)        0         \n",
            " g2D)                                                            \n",
            "                                                                 \n",
            " flatten_13 (Flatten)        (None, 1152)              0         \n",
            "                                                                 \n",
            " dense_35 (Dense)            (None, 1024)              1180672   \n",
            "                                                                 \n",
            " dropout_48 (Dropout)        (None, 1024)              0         \n",
            "                                                                 \n",
            " dense_36 (Dense)            (None, 512)               524800    \n",
            "                                                                 \n",
            " dropout_49 (Dropout)        (None, 512)               0         \n",
            "                                                                 \n",
            " dense_37 (Dense)            (None, 42)                21546     \n",
            "                                                                 \n",
            "=================================================================\n",
            "Total params: 2,013,450\n",
            "Trainable params: 2,013,450\n",
            "Non-trainable params: 0\n",
            "_________________________________________________________________\n"
          ]
        }
      ]
    },
    {
      "cell_type": "code",
      "source": [
        "epochs = 50\n",
        "learning_rate = 0.01\n",
        "deacy_rate = learning_rate / epochs\n",
        "momentum = 0.8\n",
        "sgd = SGD(lr = learning_rate, momentum=momentum, decay = deacy_rate)"
      ],
      "metadata": {
        "colab": {
          "base_uri": "https://localhost:8080/"
        },
        "id": "Lq9LyPRjGbp8",
        "outputId": "b5f4799b-f399-4782-96ae-6376d42f89c4"
      },
      "execution_count": 190,
      "outputs": [
        {
          "output_type": "stream",
          "name": "stderr",
          "text": [
            "The `lr` argument is deprecated, use `learning_rate` instead.\n"
          ]
        }
      ]
    },
    {
      "cell_type": "code",
      "source": [
        "callback = keras.callbacks.EarlyStopping(monitor = 'val_loss', patience = 3)"
      ],
      "metadata": {
        "id": "o9m8pVYJGwXQ"
      },
      "execution_count": 191,
      "outputs": []
    },
    {
      "cell_type": "code",
      "source": [
        "model.compile(loss = 'categorical_crossentropy', optimizer = sgd, metrics = ['accuracy'])"
      ],
      "metadata": {
        "id": "Ck3HII_UBvyA"
      },
      "execution_count": 192,
      "outputs": []
    },
    {
      "cell_type": "code",
      "source": [
        "model_h = model.fit(x_train_r, y_train, batch_size = 32, epochs = epochs,\n",
        "                    validation_data = (x_test_r, y_test), callbacks = [callback])"
      ],
      "metadata": {
        "colab": {
          "base_uri": "https://localhost:8080/"
        },
        "id": "5BzwXqpyC1GQ",
        "outputId": "3353cc30-246a-46f3-ce60-f7976f3f03ab"
      },
      "execution_count": 193,
      "outputs": [
        {
          "output_type": "stream",
          "name": "stdout",
          "text": [
            "Epoch 1/50\n",
            "261/261 [==============================] - 3s 7ms/step - loss: 3.7217 - accuracy: 0.0270 - val_loss: 3.7132 - val_accuracy: 0.0265\n",
            "Epoch 2/50\n",
            "261/261 [==============================] - 2s 6ms/step - loss: 3.5557 - accuracy: 0.0607 - val_loss: 2.7890 - val_accuracy: 0.2374\n",
            "Epoch 3/50\n",
            "261/261 [==============================] - 2s 6ms/step - loss: 2.1881 - accuracy: 0.3432 - val_loss: 1.1222 - val_accuracy: 0.5795\n",
            "Epoch 4/50\n",
            "261/261 [==============================] - 2s 6ms/step - loss: 1.1905 - accuracy: 0.6136 - val_loss: 0.6114 - val_accuracy: 0.8056\n",
            "Epoch 5/50\n",
            "261/261 [==============================] - 2s 6ms/step - loss: 0.7772 - accuracy: 0.7370 - val_loss: 0.5274 - val_accuracy: 0.8194\n",
            "Epoch 6/50\n",
            "261/261 [==============================] - 2s 8ms/step - loss: 0.5576 - accuracy: 0.8089 - val_loss: 0.3432 - val_accuracy: 0.8826\n",
            "Epoch 7/50\n",
            "261/261 [==============================] - 2s 7ms/step - loss: 0.4482 - accuracy: 0.8417 - val_loss: 0.2673 - val_accuracy: 0.9141\n",
            "Epoch 8/50\n",
            "261/261 [==============================] - 2s 6ms/step - loss: 0.3381 - accuracy: 0.8831 - val_loss: 0.1876 - val_accuracy: 0.9407\n",
            "Epoch 9/50\n",
            "261/261 [==============================] - 2s 6ms/step - loss: 0.2964 - accuracy: 0.8899 - val_loss: 0.2055 - val_accuracy: 0.9268\n",
            "Epoch 10/50\n",
            "261/261 [==============================] - 2s 6ms/step - loss: 0.2267 - accuracy: 0.9194 - val_loss: 0.1840 - val_accuracy: 0.9331\n",
            "Epoch 11/50\n",
            "261/261 [==============================] - 2s 6ms/step - loss: 0.2091 - accuracy: 0.9253 - val_loss: 0.1849 - val_accuracy: 0.9432\n",
            "Epoch 12/50\n",
            "261/261 [==============================] - 2s 6ms/step - loss: 0.1744 - accuracy: 0.9367 - val_loss: 0.1607 - val_accuracy: 0.9470\n",
            "Epoch 13/50\n",
            "261/261 [==============================] - 2s 6ms/step - loss: 0.1462 - accuracy: 0.9501 - val_loss: 0.1402 - val_accuracy: 0.9520\n",
            "Epoch 14/50\n",
            "261/261 [==============================] - 2s 7ms/step - loss: 0.1453 - accuracy: 0.9476 - val_loss: 0.1637 - val_accuracy: 0.9508\n",
            "Epoch 15/50\n",
            "261/261 [==============================] - 2s 7ms/step - loss: 0.1200 - accuracy: 0.9557 - val_loss: 0.1316 - val_accuracy: 0.9634\n",
            "Epoch 16/50\n",
            "261/261 [==============================] - 2s 6ms/step - loss: 0.1102 - accuracy: 0.9617 - val_loss: 0.1379 - val_accuracy: 0.9634\n",
            "Epoch 17/50\n",
            "261/261 [==============================] - 2s 6ms/step - loss: 0.0985 - accuracy: 0.9663 - val_loss: 0.1435 - val_accuracy: 0.9571\n",
            "Epoch 18/50\n",
            "261/261 [==============================] - 2s 6ms/step - loss: 0.0891 - accuracy: 0.9693 - val_loss: 0.1243 - val_accuracy: 0.9621\n",
            "Epoch 19/50\n",
            "261/261 [==============================] - 2s 6ms/step - loss: 0.0842 - accuracy: 0.9704 - val_loss: 0.1434 - val_accuracy: 0.9495\n",
            "Epoch 20/50\n",
            "261/261 [==============================] - 2s 6ms/step - loss: 0.0761 - accuracy: 0.9735 - val_loss: 0.1470 - val_accuracy: 0.9596\n",
            "Epoch 21/50\n",
            "261/261 [==============================] - 2s 6ms/step - loss: 0.0699 - accuracy: 0.9753 - val_loss: 0.1162 - val_accuracy: 0.9722\n",
            "Epoch 22/50\n",
            "261/261 [==============================] - 2s 7ms/step - loss: 0.0628 - accuracy: 0.9785 - val_loss: 0.1207 - val_accuracy: 0.9684\n",
            "Epoch 23/50\n",
            "261/261 [==============================] - 2s 8ms/step - loss: 0.0644 - accuracy: 0.9766 - val_loss: 0.1566 - val_accuracy: 0.9558\n",
            "Epoch 24/50\n",
            "261/261 [==============================] - 2s 6ms/step - loss: 0.0589 - accuracy: 0.9786 - val_loss: 0.1271 - val_accuracy: 0.9684\n"
          ]
        }
      ]
    },
    {
      "cell_type": "code",
      "source": [
        "val_imgs = []\n",
        "val_labels = []\n",
        "for indx, subdir in enumerate(subdirs):\n",
        "  imgfolder = os.path.join(test_path, subdir)\n",
        "  for imgname in os.listdir(imgfolder):\n",
        "    img = cv.imread(os.path.join(imgfolder, imgname), 0)\n",
        "    val_imgs.append(img)\n",
        "    val_labels.append(labels_nums[indx])\n",
        "\n",
        "c = list(zip(val_imgs, val_labels))\n",
        "random.shuffle(c)\n",
        "val_imgs, val_labels = zip(*c)\n",
        "\n",
        "val_imgs = np.array(val_imgs)\n",
        "val_labels = np.array(val_labels)"
      ],
      "metadata": {
        "id": "MrTbREQ1C-og"
      },
      "execution_count": 233,
      "outputs": []
    },
    {
      "cell_type": "code",
      "source": [
        "print(val_labels.shape)"
      ],
      "metadata": {
        "colab": {
          "base_uri": "https://localhost:8080/"
        },
        "id": "FzYgdrxWODuh",
        "outputId": "fc0ae321-e237-476f-a148-d7aa173ea092"
      },
      "execution_count": 234,
      "outputs": [
        {
          "output_type": "stream",
          "name": "stdout",
          "text": [
            "(398,)\n"
          ]
        }
      ]
    },
    {
      "cell_type": "code",
      "source": [
        "x_val = np.array(val_imgs, dtype = 'float') / 255.0"
      ],
      "metadata": {
        "id": "H3hsGKpOKu_R"
      },
      "execution_count": 235,
      "outputs": []
    },
    {
      "cell_type": "code",
      "source": [
        "y_val = np.array(val_labels)"
      ],
      "metadata": {
        "id": "zUJOSF8ZLWzn"
      },
      "execution_count": 236,
      "outputs": []
    },
    {
      "cell_type": "code",
      "source": [
        "y_val = np_utils.to_categorical(y_val)"
      ],
      "metadata": {
        "id": "txxG3yrTLaQh"
      },
      "execution_count": 237,
      "outputs": []
    },
    {
      "cell_type": "code",
      "source": [
        "print(y_val.shape)"
      ],
      "metadata": {
        "colab": {
          "base_uri": "https://localhost:8080/"
        },
        "id": "yJWUuUw9N-zC",
        "outputId": "8998c394-f5e0-4b6c-9e39-93be580200f4"
      },
      "execution_count": 238,
      "outputs": [
        {
          "output_type": "stream",
          "name": "stdout",
          "text": [
            "(398, 42)\n"
          ]
        }
      ]
    },
    {
      "cell_type": "code",
      "source": [
        "x_val_r = x_val.reshape(x_val.shape[0], 28, 28, 1)"
      ],
      "metadata": {
        "id": "iCpbukNTLMJJ"
      },
      "execution_count": 239,
      "outputs": []
    },
    {
      "cell_type": "code",
      "source": [
        "prediction = model.predict(x_val_r)"
      ],
      "metadata": {
        "colab": {
          "base_uri": "https://localhost:8080/"
        },
        "id": "sgqGhiguMA95",
        "outputId": "38257303-abb3-4f7d-ca87-521fd060262c"
      },
      "execution_count": 240,
      "outputs": [
        {
          "output_type": "stream",
          "name": "stdout",
          "text": [
            "13/13 [==============================] - 0s 21ms/step\n"
          ]
        }
      ]
    },
    {
      "cell_type": "code",
      "source": [
        "y_val.shape"
      ],
      "metadata": {
        "colab": {
          "base_uri": "https://localhost:8080/"
        },
        "id": "lYjPNLexNeey",
        "outputId": "ef7bb3d4-6cc7-4350-e278-8fe608692191"
      },
      "execution_count": 241,
      "outputs": [
        {
          "output_type": "execute_result",
          "data": {
            "text/plain": [
              "(398, 42)"
            ]
          },
          "metadata": {},
          "execution_count": 241
        }
      ]
    },
    {
      "cell_type": "code",
      "source": [
        "model.save('Car-L.h5')"
      ],
      "metadata": {
        "id": "F4o-38SfM9Rq"
      },
      "execution_count": 242,
      "outputs": []
    },
    {
      "cell_type": "code",
      "source": [
        "y_predicted = model.predict(x_val_r)\n",
        "y_predicted_labels = [np.argmax(i) for i in y_predicted]\n",
        "y_test_categorical = tf.argmax(y_val, axis=1)\n",
        "\n",
        "cm = tf.math.confusion_matrix(labels=y_test_categorical, predictions=y_predicted_labels)\n",
        "\n",
        "import seaborn as sn\n",
        "plt.figure(figsize = (10,7))\n",
        "sn.heatmap(cm, annot=True, fmt='d')\n",
        "plt.xlabel('Predicted')\n",
        "plt.ylabel('Truth')"
      ],
      "metadata": {
        "colab": {
          "base_uri": "https://localhost:8080/",
          "height": 665
        },
        "id": "1_XbKEysNA1S",
        "outputId": "4433bc55-3566-44a0-d617-0a5a6663df65"
      },
      "execution_count": 243,
      "outputs": [
        {
          "output_type": "stream",
          "name": "stdout",
          "text": [
            "13/13 [==============================] - 0s 2ms/step\n"
          ]
        },
        {
          "output_type": "execute_result",
          "data": {
            "text/plain": [
              "Text(95.72222222222221, 0.5, 'Truth')"
            ]
          },
          "metadata": {},
          "execution_count": 243
        },
        {
          "output_type": "display_data",
          "data": {
            "text/plain": [
              "<Figure size 1000x700 with 2 Axes>"
            ],
            "image/png": "[encoded data removed]"
          },
          "metadata": {}
        }
      ]
    },
    {
      "cell_type": "code",
      "source": [],
      "metadata": {
        "id": "7a6UAMqgNMRR"
      },
      "execution_count": null,
      "outputs": []
    }
  ]
}